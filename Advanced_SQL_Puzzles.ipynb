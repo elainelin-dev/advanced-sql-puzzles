{
 "metadata": {
  "kernelspec": {
   "display_name": "Streamlit Notebook",
   "name": "streamlit"
  },
  "lastEditStatus": {
   "notebookId": "lqhxvifcvrmell5iwjye",
   "authorId": "6710706019655",
   "authorName": "ELIN",
   "authorEmail": "contact.elainelin@gmail.com",
   "sessionId": "b8c07ddf-fcad-4308-b3e3-0b8bae162301",
   "lastEditTime": 1739673810636
  }
 },
 "nbformat_minor": 5,
 "nbformat": 4,
 "cells": [
  {
   "cell_type": "code",
   "id": "3775908f-ca36-4846-8f38-5adca39217f2",
   "metadata": {
    "language": "sql",
    "name": "cell1"
   },
   "source": "-- https://github.com/smpetersgithub/AdvancedSQLPuzzles/tree/main/Advanced%20SQL%20Puzzles\n-- But in Snowflake!",
   "execution_count": null,
   "outputs": []
  },
  {
   "cell_type": "code",
   "id": "8d50cbf4-0c8d-4950-86cb-114990437ac9",
   "metadata": {
    "language": "sql",
    "name": "cell2"
   },
   "source": "-- Puzzle 1 DDL\nCREATE TEMPORARY TABLE IF NOT EXISTS Cart1\n    (\n    Item  VARCHAR(100) PRIMARY KEY\n    )\n;\n\nCREATE TEMPORARY TABLE IF NOT EXISTS Cart2\n    (\n    Item  VARCHAR(100) PRIMARY KEY\n    )\n;\n\nINSERT INTO Cart1 (Item) VALUES\n('Sugar'),('Bread'),('Juice'),('Soda'),('Flour')\n;\n\nINSERT INTO Cart2 (Item) VALUES\n('Sugar'),('Bread'),('Butter'),('Cheese'),('Fruit')\n;",
   "execution_count": null,
   "outputs": []
  },
  {
   "cell_type": "code",
   "id": "c695373e-ac74-4b62-a1f1-08206cbd5c81",
   "metadata": {
    "language": "sql",
    "name": "cell3",
    "collapsed": false
   },
   "source": "-- Puzzle 1\nSELECT\n    *\nFROM\n    cart1 AS c1\n    FULL JOIN cart2 AS c2 ON c2.item=c1.item\n;",
   "execution_count": null,
   "outputs": []
  },
  {
   "cell_type": "code",
   "id": "b01a5fbf-0ad9-4b3c-a3b3-2cf4088ac8be",
   "metadata": {
    "language": "sql",
    "name": "cell4",
    "collapsed": false
   },
   "outputs": [],
   "source": "-- Puzzle 2 DDL\nCREATE TEMPORARY TABLE IF NOT EXISTS Employees\n    (\n    EmployeeID  INTEGER PRIMARY KEY,\n    ManagerID   INTEGER NULL,\n    JobTitle    VARCHAR(100) NOT NULL\n    )\n;\n\nINSERT INTO Employees (EmployeeID, ManagerID, JobTitle)\nVALUES\n    (1001,NULL,'President')\n    ,(2002,1001,'Director')\n    ,(3003,1001,'Office Manager')\n    ,(4004,2002,'Engineer')\n    ,(5005,2002,'Engineer')\n    ,(6006,2002,'Engineer')\n;",
   "execution_count": null
  },
  {
   "cell_type": "code",
   "id": "db142924-74e3-476b-85d4-69c3eb1ba7fb",
   "metadata": {
    "language": "sql",
    "name": "cell5",
    "collapsed": false
   },
   "outputs": [],
   "source": "-- Puzzle 2 (Solution 1)\nWITH emp_hierarchy AS\n    (\n    SELECT\n        e.employeeid\n        ,e.managerid\n        ,e.jobtitle\n        ,0 AS depth\n    FROM\n        employees AS e\n    WHERE 1=1\n        AND e.managerid IS NULL\n\n    UNION ALL\n\n    SELECT\n        e.employeeid\n        ,e.managerid\n        ,e.jobtitle\n        ,eh.depth+1 AS depth\n    FROM\n        emp_hierarchy AS eh\n        JOIN employees AS e ON e.managerid=eh.employeeid\n    )\n\nSELECT\n    *\nFROM\n    emp_hierarchy AS eh\nORDER BY\n    eh.depth\n;",
   "execution_count": null
  },
  {
   "cell_type": "code",
   "id": "0712f8e3-a144-439f-8928-2032ac4259b3",
   "metadata": {
    "language": "sql",
    "name": "cell6",
    "collapsed": false
   },
   "outputs": [],
   "source": "-- Puzzle 2 (Solution 2)\nSELECT\n    e.employeeid\n    ,e.managerid\n    ,e.jobtitle\n    ,ARRAY_SIZE(SPLIT(SUBSTR(SYS_CONNECT_BY_PATH(e.jobtitle, '.'), 2, LENGTH(SYS_CONNECT_BY_PATH(e.jobtitle, '.'))), '.'))-1 AS depth\nFROM\n    employees AS e\n    START WITH\n        jobtitle = 'President'\n    CONNECT BY\n        managerid = PRIOR employeeid\nORDER BY\n    employeeid\n;",
   "execution_count": null
  },
  {
   "cell_type": "code",
   "id": "929cfb79-3596-4058-8fdc-c249341ae821",
   "metadata": {
    "language": "sql",
    "name": "cell7"
   },
   "outputs": [],
   "source": "-- Puzzle 3 DDL\nCREATE OR REPLACE TEMPORARY TABLE EmployeePayRecords\n    (\n    EmployeeID  INTEGER,\n    FiscalYear  INTEGER,\n    StartDate   DATE,\n    EndDate     DATE,\n    PayRate     DECIMAL(38,2)\n    )\n;",
   "execution_count": null
  },
  {
   "cell_type": "code",
   "id": "e3004a58-7808-4b23-b393-9784fa2420bf",
   "metadata": {
    "language": "sql",
    "name": "cell8"
   },
   "outputs": [],
   "source": "-- Snowflake doesn't support SQL Server Check Constraints\n\nALTER TABLE EmployeePayRecords ADD CONSTRAINT unq_emp_fiscyear UNIQUE (employeeid, fiscalyear);",
   "execution_count": null
  },
  {
   "cell_type": "code",
   "id": "d0275f29-24c5-4ee8-86ac-2bf0d8c890ef",
   "metadata": {
    "language": "sql",
    "name": "cell9",
    "collapsed": false
   },
   "outputs": [],
   "source": "-- Puzzle 4 DDL\nCREATE TEMPORARY TABLE IF NOT EXISTS Orders\n    (\n    CustomerID     INTEGER,\n    OrderID        INTEGER,\n    DeliveryState  VARCHAR(100) NOT NULL,\n    Amount         DECIMAL(38,2) NOT NULL\n    )\n;\n\nINSERT INTO Orders (CustomerID, OrderID, DeliveryState, Amount)\nVALUES\n    (1001,1,'CA',340)\n    ,(1001,2,'TX',950)\n    ,(1001,3,'TX',670)\n    ,(1001,4,'TX',860)\n    ,(2002,5,'WA',320)\n    ,(3003,6,'CA',650)\n    ,(3003,7,'CA',830)\n    ,(4004,8,'TX',120)\n;",
   "execution_count": null
  },
  {
   "cell_type": "code",
   "id": "c8624c98-d676-487c-af71-12f71574896a",
   "metadata": {
    "language": "sql",
    "name": "cell10",
    "collapsed": false
   },
   "outputs": [],
   "source": "-- Puzzle 4\nSELECT\n    *\nFROM\n    orders AS o\nWHERE 1=1\n    AND o.deliverystate='TX'\n    AND EXISTS(\n                SELECT\n                    1\n                FROM\n                    orders AS o2\n                WHERE 1=1\n                    AND o2.customerid=o.customerid\n                    AND o2.deliverystate='CA'\n                )\n;",
   "execution_count": null
  },
  {
   "cell_type": "code",
   "id": "060f5059-4c7c-4a59-9e28-e51216e27fa7",
   "metadata": {
    "language": "sql",
    "name": "cell11",
    "collapsed": false
   },
   "outputs": [],
   "source": "-- Puzzle 5 DDL\nCREATE TEMPORARY TABLE IF NOT EXISTS PhoneDirectory\n    (\n    CustomerID   INTEGER,\n    Type       VARCHAR(100),\n    PhoneNumber  VARCHAR(12) NOT NULL\n    )\n;\n\nINSERT INTO PhoneDirectory (CustomerID, Type, PhoneNumber)\nVALUES\n    (1001,'Cellular','555-897-5421')\n    ,(1001,'Work','555-897-6542')\n    ,(1001,'Home','555-698-9874')\n    ,(2002,'Cellular','555-963-6544')\n    ,(2002,'Work','555-812-9856')\n    ,(3003,'Cellular','555-987-6541')\n;",
   "execution_count": null
  },
  {
   "cell_type": "code",
   "id": "5b1b5ae0-9d68-4e29-bb6b-8bc5beefae20",
   "metadata": {
    "language": "sql",
    "name": "cell12",
    "collapsed": false
   },
   "outputs": [],
   "source": "-- Puzzle 5 (Solution 1 - Clean)\nSELECT\n    p.customerid\n    ,p.\"'Cellular'\" AS cellular\n    ,p.\"'Work'\" AS work\n    ,p.\"'Home'\" AS home\nFROM\n    phonedirectory AS pd\n    PIVOT (MAX(phonenumber) FOR type IN (ANY ORDER BY type)) AS p\n;",
   "execution_count": null
  },
  {
   "cell_type": "code",
   "id": "8257c7ce-fa26-4e63-8c72-d2fffdf275f3",
   "metadata": {
    "language": "sql",
    "name": "cell13",
    "collapsed": false
   },
   "outputs": [],
   "source": "-- Puzzle 5 (Solution 2 - Hacky)\nSELECT\n    pd.customerid\n    ,MAX(IFF(pd.type='Cellular', pd.phonenumber, NULL)) AS cellular\n    ,MAX(IFF(pd.type='Work', pd.phonenumber, NULL)) AS work\n    ,MAX(IFF(pd.type='Home', pd.phonenumber, NULL)) AS home\nFROM\n    phonedirectory AS pd\nGROUP BY ALL\nORDER BY\n    pd.customerid\n;",
   "execution_count": null
  },
  {
   "cell_type": "code",
   "id": "bba62a84-fc62-475f-a17b-5328cfe93306",
   "metadata": {
    "language": "sql",
    "name": "cell14",
    "collapsed": false
   },
   "outputs": [],
   "source": "-- Puzzle 6 DDL\nCREATE TEMPORARY TABLE IF NOT EXISTS WorkflowSteps\n    (\n    Workflow        VARCHAR(100),\n    StepNumber      INTEGER,\n    CompletionDate  DATE NULL\n    )\n;\n\nINSERT INTO WorkflowSteps (Workflow, StepNumber, CompletionDate)\nVALUES\n    ('Alpha',1,'7/2/2018')\n    ,('Alpha',2,'7/2/2018')\n    ,('Alpha',3,'7/1/2018')\n    ,('Bravo',1,'6/25/2018')\n    ,('Bravo',2,NULL)\n    ,('Bravo',3,'6/27/2018')\n    ,('Charlie',1,NULL)\n    ,('Charlie',2,'7/1/2018')\n;",
   "execution_count": null
  },
  {
   "cell_type": "code",
   "id": "715ced59-3319-4e4f-8619-c5c7a6096d03",
   "metadata": {
    "language": "sql",
    "name": "cell15"
   },
   "outputs": [],
   "source": "-- Puzzle 6 (Solution 1)\nSELECT\n    ws.workflow\nFROM\n    workflowsteps AS ws\nWHERE 1=1\n    AND completiondate IS NULL\n;",
   "execution_count": null
  },
  {
   "cell_type": "code",
   "id": "32d8c10c-b67c-415b-af2a-426c5830b62c",
   "metadata": {
    "language": "sql",
    "name": "cell16",
    "collapsed": false
   },
   "outputs": [],
   "source": "-- Puzzle 6 (Solution 2 - Bonus)\nSELECT\n    ws.workflow\nFROM\n    workflowsteps AS ws\nGROUP BY\n    ws.workflow\nHAVING\n    COUNT(*) <> COUNT(ws.completiondate)\n;",
   "execution_count": null
  },
  {
   "cell_type": "code",
   "id": "aaf5bcbf-aa72-4a38-ac7b-72a9f2b70c6a",
   "metadata": {
    "language": "sql",
    "name": "cell17",
    "collapsed": false
   },
   "outputs": [],
   "source": "-- Puzzle 7 DDL\nCREATE OR REPLACE TEMPORARY TABLE Candidates\n    (\n    CandidateID  INTEGER,\n    Occupation   VARCHAR(100)\n    )\n;\n\nINSERT INTO Candidates (CandidateID, Occupation)\nVALUES\n    (1001,'Geologist')\n    ,(1001,'Astrogator')\n    ,(1001,'Biochemist')\n    ,(1001,'Technician')\n    ,(2002,'Surgeon')\n    ,(2002,'Machinist')\n    ,(2002,'Geologist')\n    ,(3003,'Geologist')\n    ,(3003,'Astrogator')\n    ,(4004,'Selenologist')\n;\n\nCREATE OR REPLACE TEMPORARY TABLE Requirements\n    (\n    Requirement  VARCHAR(100)\n    )\n;\n\nINSERT INTO Requirements (Requirement)\n    VALUES\n    ('Geologist')\n    ,('Astrogator')\n    ,('Technician')\n;",
   "execution_count": null
  },
  {
   "cell_type": "code",
   "id": "f6149fde-0722-4d1b-9888-085e8d1b8b64",
   "metadata": {
    "language": "sql",
    "name": "cell18",
    "collapsed": false
   },
   "outputs": [],
   "source": "-- Puzzle 7\n;WITH count_requirements AS\n    (\n    SELECT\n        COUNT(*) AS ct\n    FROM\n        requirements AS r\n    )\n    \nSELECT\n    c.candidateid\n    ,cr.ct\nFROM\n    candidates AS c\n    JOIN requirements AS r ON r.requirement=c.occupation\n    CROSS JOIN count_requirements AS cr\nGROUP BY ALL\nHAVING\n    COUNT(*)=cr.ct\n;",
   "execution_count": null
  },
  {
   "cell_type": "code",
   "id": "4e490574-de51-4723-932f-746d8f053cf2",
   "metadata": {
    "language": "sql",
    "name": "cell19",
    "collapsed": false
   },
   "outputs": [],
   "source": "-- Puzzle 8 DDL\nCREATE TEMPORARY TABLE IF NOT EXISTS WorkflowCases\n    (\n    Workflow  VARCHAR(100),\n    Case1     INTEGER NOT NULL DEFAULT 0,\n    Case2     INTEGER NOT NULL DEFAULT 0,\n    Case3     INTEGER NOT NULL DEFAULT 0\n    )\n;\n\nINSERT INTO WorkflowCases (Workflow, Case1, Case2, Case3)\nVALUES\n    ('Alpha',0,0,0)\n    ,('Bravo',0,1,1)\n    ,('Charlie',1,0,0)\n    ,('Delta',0,0,0)\n;",
   "execution_count": null
  },
  {
   "cell_type": "code",
   "id": "0f7cc614-86d3-492a-adbd-6d1d123ee660",
   "metadata": {
    "language": "sql",
    "name": "cell20",
    "collapsed": false
   },
   "outputs": [],
   "source": "-- Puzzle 8 (Solution 1 - Clean)\nSELECT\n    up.workflow\n    ,SUM(up.passed) AS passed\nFROM\n    workflowcases AS wc\n    UNPIVOT(passed FOR case IN (Case1, Case2, Case3)) AS up\nGROUP BY ALL\n;",
   "execution_count": null
  },
  {
   "cell_type": "code",
   "id": "8acd4edf-46b2-450b-a5b5-0913e89c4c73",
   "metadata": {
    "language": "sql",
    "name": "cell21",
    "collapsed": false
   },
   "outputs": [],
   "source": "-- Puzzle 8 (Solution 2 - Hacky)\nSELECT\n    wc.workflow\n    ,wc.case1+wc.case2+wc.case3 AS passed\nFROM\n    workflowcases AS wc\n;",
   "execution_count": null
  },
  {
   "cell_type": "code",
   "id": "1fb921e7-f211-4e50-83ff-a4a21e338da3",
   "metadata": {
    "language": "sql",
    "name": "cell22",
    "collapsed": false
   },
   "outputs": [],
   "source": "-- Puzzle 9 DDL\nCREATE TEMPORARY TABLE IF NOT EXISTS Employees\n    (\n    EmployeeID  INTEGER,\n    License     VARCHAR(100)\n    )\n;\n\nINSERT INTO Employees (EmployeeID, License)\nVALUES\n    (1001,'Class A')\n    ,(1001,'Class B')\n    ,(1001,'Class C')\n    ,(2002,'Class A')\n    ,(2002,'Class B')\n    ,(2002,'Class C')\n    ,(3003,'Class A')\n    ,(3003,'Class D')\n    ,(4004,'Class A')\n    ,(4004,'Class B')\n    ,(4004,'Class D')\n    ,(5005,'Class A')\n    ,(5005,'Class B')\n    ,(5005,'Class D')\n;",
   "execution_count": null
  },
  {
   "cell_type": "code",
   "id": "242ba236-b98f-4188-86f5-a01331baeff0",
   "metadata": {
    "language": "sql",
    "name": "cell23",
    "collapsed": false
   },
   "outputs": [],
   "source": "-- Puzzle 9\n;WITH employees_enhanced AS\n    (\n    SELECT\n        *\n        ,COUNT(*) OVER(PARTITION BY e.employeeid) AS ct_employee_licenses\n    FROM\n        employees AS e\n    )\n    \nSELECT DISTINCT\n    e.employeeid\n    ,e2.employeeid\n    ,COUNT(*) OVER(PARTITION BY e.employeeid, e2.employeeid) AS ct_combo_licenses\nFROM\n    employees_enhanced AS e\n    JOIN employees_enhanced AS e2 ON e2.employeeid<>e.employeeid AND e2.license=e.license\nWHERE 1=1\n    AND e.ct_employee_licenses=e2.ct_employee_licenses\nQUALIFY\n    e.ct_employee_licenses=ct_combo_licenses\nORDER BY\n    e.employeeid\n    ,e2.employeeid\n;",
   "execution_count": null
  },
  {
   "cell_type": "code",
   "id": "d0584578-f0da-46b1-865a-161800a10840",
   "metadata": {
    "language": "sql",
    "name": "cell24",
    "collapsed": false
   },
   "outputs": [],
   "source": "-- Puzzle 10 DDL\nCREATE TEMPORARY TABLE IF NOT EXISTS SampleData\n    (\n    IntegerValue  INTEGER NOT NULL\n    )\n;\n\nINSERT INTO SampleData (IntegerValue)\nVALUES\n    (5),(6),(10),(10),(13),(14),(17),(20),(81),(90),(76)\n;",
   "execution_count": null
  },
  {
   "cell_type": "code",
   "id": "68f46975-e6a4-4488-96b7-636ff6ad278b",
   "metadata": {
    "language": "sql",
    "name": "cell25"
   },
   "outputs": [],
   "source": "-- Puzzle 10\nSELECT\n    AVG(sd.integervalue)\n    ,MEDIAN(sd.integervalue)\n    ,MODE(sd.integervalue)\n    ,MAX(sd.integervalue)-MIN(sd.integervalue)\nFROM\n    sampledata AS sd\n;",
   "execution_count": null
  }
 ]
}
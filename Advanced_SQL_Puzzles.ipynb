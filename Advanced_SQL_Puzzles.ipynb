{
 "metadata": {
  "kernelspec": {
   "display_name": "Streamlit Notebook",
   "name": "streamlit"
  },
  "lastEditStatus": {
   "notebookId": "lqhxvifcvrmell5iwjye",
   "authorId": "6710706019655",
   "authorName": "ELIN",
   "authorEmail": "contact.elainelin@gmail.com",
   "sessionId": "d7bb22d5-b346-4f49-a994-e7fed0822aa9",
   "lastEditTime": 1739681186377
  }
 },
 "nbformat_minor": 5,
 "nbformat": 4,
 "cells": [
  {
   "cell_type": "code",
   "id": "3775908f-ca36-4846-8f38-5adca39217f2",
   "metadata": {
    "language": "sql",
    "name": "cell1"
   },
   "source": "-- Using Snowflake!",
   "execution_count": null,
   "outputs": []
  },
  {
   "cell_type": "code",
   "id": "8d50cbf4-0c8d-4950-86cb-114990437ac9",
   "metadata": {
    "language": "sql",
    "name": "cell2"
   },
   "source": "-- Puzzle 1 DDL\nCREATE OR REPLACE TEMPORARY TABLE Cart1\n    (\n    Item  VARCHAR(100) PRIMARY KEY\n    )\n;\n\nCREATE OR REPLACE TEMPORARY TABLE Cart2\n    (\n    Item  VARCHAR(100) PRIMARY KEY\n    )\n;\n\nINSERT INTO Cart1 (Item) VALUES\n('Sugar'),('Bread'),('Juice'),('Soda'),('Flour')\n;\n\nINSERT INTO Cart2 (Item) VALUES\n('Sugar'),('Bread'),('Butter'),('Cheese'),('Fruit')\n;",
   "execution_count": null,
   "outputs": []
  },
  {
   "cell_type": "code",
   "id": "c695373e-ac74-4b62-a1f1-08206cbd5c81",
   "metadata": {
    "language": "sql",
    "name": "cell3",
    "collapsed": false
   },
   "source": "-- Puzzle 1\nSELECT\n    *\nFROM\n    cart1 AS c1\n    FULL JOIN cart2 AS c2 ON c2.item=c1.item\n;",
   "execution_count": null,
   "outputs": []
  },
  {
   "cell_type": "code",
   "id": "b01a5fbf-0ad9-4b3c-a3b3-2cf4088ac8be",
   "metadata": {
    "language": "sql",
    "name": "cell4",
    "collapsed": false
   },
   "outputs": [],
   "source": "-- Puzzle 2 DDL\nCREATE OR REPLACE TEMPORARY TABLE Employees\n    (\n    EmployeeID  INTEGER PRIMARY KEY,\n    ManagerID   INTEGER NULL,\n    JobTitle    VARCHAR(100) NOT NULL\n    )\n;\n\nINSERT INTO Employees (EmployeeID, ManagerID, JobTitle)\nVALUES\n    (1001,NULL,'President')\n    ,(2002,1001,'Director')\n    ,(3003,1001,'Office Manager')\n    ,(4004,2002,'Engineer')\n    ,(5005,2002,'Engineer')\n    ,(6006,2002,'Engineer')\n;",
   "execution_count": null
  },
  {
   "cell_type": "code",
   "id": "db142924-74e3-476b-85d4-69c3eb1ba7fb",
   "metadata": {
    "language": "sql",
    "name": "cell5",
    "collapsed": false
   },
   "outputs": [],
   "source": "-- Puzzle 2 (Solution 1)\nWITH emp_hierarchy AS\n    (\n    SELECT\n        e.employeeid\n        ,e.managerid\n        ,e.jobtitle\n        ,0 AS depth\n    FROM\n        employees AS e\n    WHERE 1=1\n        AND e.managerid IS NULL\n\n    UNION ALL\n\n    SELECT\n        e.employeeid\n        ,e.managerid\n        ,e.jobtitle\n        ,eh.depth+1 AS depth\n    FROM\n        emp_hierarchy AS eh\n        JOIN employees AS e ON e.managerid=eh.employeeid\n    )\n\nSELECT\n    *\nFROM\n    emp_hierarchy AS eh\nORDER BY\n    eh.depth\n;",
   "execution_count": null
  },
  {
   "cell_type": "code",
   "id": "0712f8e3-a144-439f-8928-2032ac4259b3",
   "metadata": {
    "language": "sql",
    "name": "cell6",
    "collapsed": false
   },
   "outputs": [],
   "source": "-- Puzzle 2 (Solution 2)\nSELECT\n    e.employeeid\n    ,e.managerid\n    ,e.jobtitle\n    ,ARRAY_SIZE(SPLIT(SUBSTR(SYS_CONNECT_BY_PATH(e.jobtitle, '.'), 2, LENGTH(SYS_CONNECT_BY_PATH(e.jobtitle, '.'))), '.'))-1 AS depth\nFROM\n    employees AS e\n    START WITH\n        jobtitle = 'President'\n    CONNECT BY\n        managerid = PRIOR employeeid\nORDER BY\n    employeeid\n;",
   "execution_count": null
  },
  {
   "cell_type": "code",
   "id": "929cfb79-3596-4058-8fdc-c249341ae821",
   "metadata": {
    "language": "sql",
    "name": "cell7"
   },
   "outputs": [],
   "source": "-- Puzzle 3 DDL\nCREATE OR REPLACE TEMPORARY TABLE EmployeePayRecords\n    (\n    EmployeeID  INTEGER,\n    FiscalYear  INTEGER,\n    StartDate   DATE,\n    EndDate     DATE,\n    PayRate     DECIMAL(38,2)\n    )\n;",
   "execution_count": null
  },
  {
   "cell_type": "code",
   "id": "e3004a58-7808-4b23-b393-9784fa2420bf",
   "metadata": {
    "language": "sql",
    "name": "cell8"
   },
   "outputs": [],
   "source": "-- Puzzle 3\n-- Note: Snowflake doesn't support SQL Server Check Constraints\n\nALTER TABLE EmployeePayRecords ADD CONSTRAINT unq_emp_fiscyear UNIQUE (employeeid, fiscalyear);",
   "execution_count": null
  },
  {
   "cell_type": "code",
   "id": "d0275f29-24c5-4ee8-86ac-2bf0d8c890ef",
   "metadata": {
    "language": "sql",
    "name": "cell9",
    "collapsed": false
   },
   "outputs": [],
   "source": "-- Puzzle 4 DDL\nCREATE OR REPLACE TEMPORARY TABLE Orders\n    (\n    CustomerID     INTEGER,\n    OrderID        INTEGER,\n    DeliveryState  VARCHAR(100) NOT NULL,\n    Amount         DECIMAL(38,2) NOT NULL\n    )\n;\n\nINSERT INTO Orders (CustomerID, OrderID, DeliveryState, Amount)\nVALUES\n    (1001,1,'CA',340)\n    ,(1001,2,'TX',950)\n    ,(1001,3,'TX',670)\n    ,(1001,4,'TX',860)\n    ,(2002,5,'WA',320)\n    ,(3003,6,'CA',650)\n    ,(3003,7,'CA',830)\n    ,(4004,8,'TX',120)\n;",
   "execution_count": null
  },
  {
   "cell_type": "code",
   "id": "c8624c98-d676-487c-af71-12f71574896a",
   "metadata": {
    "language": "sql",
    "name": "cell10",
    "collapsed": false
   },
   "outputs": [],
   "source": "-- Puzzle 4\nSELECT\n    *\nFROM\n    orders AS o\nWHERE 1=1\n    AND o.deliverystate='TX'\n    AND EXISTS(\n                SELECT\n                    1\n                FROM\n                    orders AS o2\n                WHERE 1=1\n                    AND o2.customerid=o.customerid\n                    AND o2.deliverystate='CA'\n                )\n;",
   "execution_count": null
  },
  {
   "cell_type": "code",
   "id": "060f5059-4c7c-4a59-9e28-e51216e27fa7",
   "metadata": {
    "language": "sql",
    "name": "cell11",
    "collapsed": false
   },
   "outputs": [],
   "source": "-- Puzzle 5 DDL\nCREATE OR REPLACE TEMPORARY TABLE PhoneDirectory\n    (\n    CustomerID   INTEGER,\n    Type       VARCHAR(100),\n    PhoneNumber  VARCHAR(12) NOT NULL\n    )\n;\n\nINSERT INTO PhoneDirectory (CustomerID, Type, PhoneNumber)\nVALUES\n    (1001,'Cellular','555-897-5421')\n    ,(1001,'Work','555-897-6542')\n    ,(1001,'Home','555-698-9874')\n    ,(2002,'Cellular','555-963-6544')\n    ,(2002,'Work','555-812-9856')\n    ,(3003,'Cellular','555-987-6541')\n;",
   "execution_count": null
  },
  {
   "cell_type": "code",
   "id": "5b1b5ae0-9d68-4e29-bb6b-8bc5beefae20",
   "metadata": {
    "language": "sql",
    "name": "cell12",
    "collapsed": false
   },
   "outputs": [],
   "source": "-- Puzzle 5 (Solution 1 - Clean)\nSELECT\n    p.customerid\n    ,p.\"'Cellular'\" AS cellular\n    ,p.\"'Work'\" AS work\n    ,p.\"'Home'\" AS home\nFROM\n    phonedirectory AS pd\n    PIVOT (MAX(phonenumber) FOR type IN (ANY ORDER BY type)) AS p\n;",
   "execution_count": null
  },
  {
   "cell_type": "code",
   "id": "8257c7ce-fa26-4e63-8c72-d2fffdf275f3",
   "metadata": {
    "language": "sql",
    "name": "cell13",
    "collapsed": false
   },
   "outputs": [],
   "source": "-- Puzzle 5 (Solution 2 - Hacky)\nSELECT\n    pd.customerid\n    ,MAX(IFF(pd.type='Cellular', pd.phonenumber, NULL)) AS cellular\n    ,MAX(IFF(pd.type='Work', pd.phonenumber, NULL)) AS work\n    ,MAX(IFF(pd.type='Home', pd.phonenumber, NULL)) AS home\nFROM\n    phonedirectory AS pd\nGROUP BY ALL\nORDER BY\n    pd.customerid\n;",
   "execution_count": null
  },
  {
   "cell_type": "code",
   "id": "bba62a84-fc62-475f-a17b-5328cfe93306",
   "metadata": {
    "language": "sql",
    "name": "cell14",
    "collapsed": false
   },
   "outputs": [],
   "source": "-- Puzzle 6 DDL\nCREATE OR REPLACE TEMPORARY TABLE WorkflowSteps\n    (\n    Workflow        VARCHAR(100),\n    StepNumber      INTEGER,\n    CompletionDate  DATE NULL\n    )\n;\n\nINSERT INTO WorkflowSteps (Workflow, StepNumber, CompletionDate)\nVALUES\n    ('Alpha',1,'7/2/2018')\n    ,('Alpha',2,'7/2/2018')\n    ,('Alpha',3,'7/1/2018')\n    ,('Bravo',1,'6/25/2018')\n    ,('Bravo',2,NULL)\n    ,('Bravo',3,'6/27/2018')\n    ,('Charlie',1,NULL)\n    ,('Charlie',2,'7/1/2018')\n;",
   "execution_count": null
  },
  {
   "cell_type": "code",
   "id": "715ced59-3319-4e4f-8619-c5c7a6096d03",
   "metadata": {
    "language": "sql",
    "name": "cell15"
   },
   "outputs": [],
   "source": "-- Puzzle 6 (Solution 1)\nSELECT\n    ws.workflow\nFROM\n    workflowsteps AS ws\nWHERE 1=1\n    AND completiondate IS NULL\n;",
   "execution_count": null
  },
  {
   "cell_type": "code",
   "id": "32d8c10c-b67c-415b-af2a-426c5830b62c",
   "metadata": {
    "language": "sql",
    "name": "cell16",
    "collapsed": false
   },
   "outputs": [],
   "source": "-- Puzzle 6 (Solution 2 - Bonus)\nSELECT\n    ws.workflow\nFROM\n    workflowsteps AS ws\nGROUP BY\n    ws.workflow\nHAVING\n    COUNT(*) <> COUNT(ws.completiondate)\n;",
   "execution_count": null
  },
  {
   "cell_type": "code",
   "id": "aaf5bcbf-aa72-4a38-ac7b-72a9f2b70c6a",
   "metadata": {
    "language": "sql",
    "name": "cell17",
    "collapsed": false
   },
   "outputs": [],
   "source": "-- Puzzle 7 DDL\nCREATE OR REPLACE TEMPORARY TABLE Candidates\n    (\n    CandidateID  INTEGER,\n    Occupation   VARCHAR(100)\n    )\n;\n\nINSERT INTO Candidates (CandidateID, Occupation)\nVALUES\n    (1001,'Geologist')\n    ,(1001,'Astrogator')\n    ,(1001,'Biochemist')\n    ,(1001,'Technician')\n    ,(2002,'Surgeon')\n    ,(2002,'Machinist')\n    ,(2002,'Geologist')\n    ,(3003,'Geologist')\n    ,(3003,'Astrogator')\n    ,(4004,'Selenologist')\n;\n\nCREATE OR REPLACE TEMPORARY TABLE Requirements\n    (\n    Requirement  VARCHAR(100)\n    )\n;\n\nINSERT INTO Requirements (Requirement)\n    VALUES\n    ('Geologist')\n    ,('Astrogator')\n    ,('Technician')\n;",
   "execution_count": null
  },
  {
   "cell_type": "code",
   "id": "f6149fde-0722-4d1b-9888-085e8d1b8b64",
   "metadata": {
    "language": "sql",
    "name": "cell18",
    "collapsed": false
   },
   "outputs": [],
   "source": "-- Puzzle 7\n;WITH count_requirements AS\n    (\n    SELECT\n        COUNT(*) AS ct\n    FROM\n        requirements AS r\n    )\n    \nSELECT\n    c.candidateid\n    ,cr.ct\nFROM\n    candidates AS c\n    JOIN requirements AS r ON r.requirement=c.occupation\n    CROSS JOIN count_requirements AS cr\nGROUP BY ALL\nHAVING\n    COUNT(*)=cr.ct\n;",
   "execution_count": null
  },
  {
   "cell_type": "code",
   "id": "4e490574-de51-4723-932f-746d8f053cf2",
   "metadata": {
    "language": "sql",
    "name": "cell19",
    "collapsed": false
   },
   "outputs": [],
   "source": "-- Puzzle 8 DDL\nCREATE OR REPLACE TEMPORARY TABLE WorkflowCases\n    (\n    Workflow  VARCHAR(100),\n    Case1     INTEGER NOT NULL DEFAULT 0,\n    Case2     INTEGER NOT NULL DEFAULT 0,\n    Case3     INTEGER NOT NULL DEFAULT 0\n    )\n;\n\nINSERT INTO WorkflowCases (Workflow, Case1, Case2, Case3)\nVALUES\n    ('Alpha',0,0,0)\n    ,('Bravo',0,1,1)\n    ,('Charlie',1,0,0)\n    ,('Delta',0,0,0)\n;",
   "execution_count": null
  },
  {
   "cell_type": "code",
   "id": "0f7cc614-86d3-492a-adbd-6d1d123ee660",
   "metadata": {
    "language": "sql",
    "name": "cell20",
    "collapsed": false
   },
   "outputs": [],
   "source": "-- Puzzle 8 (Solution 1 - Clean)\nSELECT\n    up.workflow\n    ,SUM(up.passed) AS passed\nFROM\n    workflowcases AS wc\n    UNPIVOT(passed FOR case IN (Case1, Case2, Case3)) AS up\nGROUP BY ALL\n;",
   "execution_count": null
  },
  {
   "cell_type": "code",
   "id": "8acd4edf-46b2-450b-a5b5-0913e89c4c73",
   "metadata": {
    "language": "sql",
    "name": "cell21",
    "collapsed": false
   },
   "outputs": [],
   "source": "-- Puzzle 8 (Solution 2 - Hacky)\nSELECT\n    wc.workflow\n    ,wc.case1+wc.case2+wc.case3 AS passed\nFROM\n    workflowcases AS wc\n;",
   "execution_count": null
  },
  {
   "cell_type": "code",
   "id": "1fb921e7-f211-4e50-83ff-a4a21e338da3",
   "metadata": {
    "language": "sql",
    "name": "cell22",
    "collapsed": false
   },
   "outputs": [],
   "source": "-- Puzzle 9 DDL\nCREATE OR REPLACE TEMPORARY TABLE Employees\n    (\n    EmployeeID  INTEGER,\n    License     VARCHAR(100)\n    )\n;\n\nINSERT INTO Employees (EmployeeID, License)\nVALUES\n    (1001,'Class A')\n    ,(1001,'Class B')\n    ,(1001,'Class C')\n    ,(2002,'Class A')\n    ,(2002,'Class B')\n    ,(2002,'Class C')\n    ,(3003,'Class A')\n    ,(3003,'Class D')\n    ,(4004,'Class A')\n    ,(4004,'Class B')\n    ,(4004,'Class D')\n    ,(5005,'Class A')\n    ,(5005,'Class B')\n    ,(5005,'Class D')\n;",
   "execution_count": null
  },
  {
   "cell_type": "code",
   "id": "242ba236-b98f-4188-86f5-a01331baeff0",
   "metadata": {
    "language": "sql",
    "name": "cell23",
    "collapsed": false
   },
   "outputs": [],
   "source": "-- Puzzle 9\n;WITH employees_enhanced AS\n    (\n    SELECT\n        *\n        ,COUNT(*) OVER(PARTITION BY e.employeeid) AS ct_employee_licenses\n    FROM\n        employees AS e\n    )\n    \nSELECT DISTINCT\n    e.employeeid\n    ,e2.employeeid\n    ,COUNT(*) OVER(PARTITION BY e.employeeid, e2.employeeid) AS ct_combo_licenses\nFROM\n    employees_enhanced AS e\n    JOIN employees_enhanced AS e2 ON e2.employeeid<>e.employeeid AND e2.license=e.license\nWHERE 1=1\n    AND e.ct_employee_licenses=e2.ct_employee_licenses\nQUALIFY\n    e.ct_employee_licenses=ct_combo_licenses\nORDER BY\n    e.employeeid\n    ,e2.employeeid\n;",
   "execution_count": null
  },
  {
   "cell_type": "code",
   "id": "d0584578-f0da-46b1-865a-161800a10840",
   "metadata": {
    "language": "sql",
    "name": "cell24",
    "collapsed": false
   },
   "outputs": [],
   "source": "-- Puzzle 10 DDL\nCREATE OR REPLACE TEMPORARY TABLE SampleData\n    (\n    IntegerValue  INTEGER NOT NULL\n    )\n;\n\nINSERT INTO SampleData (IntegerValue)\nVALUES\n    (5),(6),(10),(10),(13),(14),(17),(20),(81),(90),(76)\n;",
   "execution_count": null
  },
  {
   "cell_type": "code",
   "id": "68f46975-e6a4-4488-96b7-636ff6ad278b",
   "metadata": {
    "language": "sql",
    "name": "cell25"
   },
   "outputs": [],
   "source": "-- Puzzle 10\nSELECT\n    AVG(sd.integervalue)\n    ,MEDIAN(sd.integervalue)\n    ,MODE(sd.integervalue)\n    ,MAX(sd.integervalue)-MIN(sd.integervalue)\nFROM\n    sampledata AS sd\n;",
   "execution_count": null
  },
  {
   "cell_type": "code",
   "id": "fe39de8f-1fdc-479c-b14f-be959b09b24b",
   "metadata": {
    "language": "sql",
    "name": "cell26",
    "collapsed": false
   },
   "outputs": [],
   "source": "-- Puzzle 11 DDL\nCREATE OR REPLACE TEMPORARY TABLE TestCases\n    (\n    TestCase  VARCHAR(1)\n    )\n;\n\nINSERT INTO TestCases (TestCase)\nVALUES\n    ('A')\n    ,('B')\n    ,('C')\n;",
   "execution_count": null
  },
  {
   "cell_type": "code",
   "id": "da6e919f-3a1a-4626-82f7-d32bca6cca55",
   "metadata": {
    "language": "sql",
    "name": "cell27",
    "collapsed": false
   },
   "outputs": [],
   "source": "-- Puzzle 11\n;WITH base AS\n    (\n    SELECT\n        tc.testcase\n        ,ARRAY_CONSTRUCT(tc.testcase) AS testcase_array\n    FROM\n        testcases AS tc\n\n    UNION ALL\n\n    SELECT\n        tc.testcase\n        ,ARRAY_APPEND(b.testcase_array, tc.testcase) AS testcase_array\n    FROM\n        base AS b\n        JOIN testcases AS tc ON tc.testcase<>b.testcase AND NOT ARRAY_CONTAINS(tc.testcase::VARIANT, b.testcase_array)\n    )\n\nSELECT\n    ARRAY_TO_STRING(b.testcase_array, ',') AS testcase\nFROM\n    base AS b\nWHERE 1=1\n    AND ARRAY_SIZE(b.testcase_array)=(SELECT COUNT(*) FROM testcases AS tc)\n;",
   "execution_count": null
  },
  {
   "cell_type": "code",
   "id": "8234224a-925d-4fc3-b319-7a47c5060856",
   "metadata": {
    "language": "sql",
    "name": "cell28",
    "collapsed": false
   },
   "outputs": [],
   "source": "-- Puzzle 12 DDL\nCREATE OR REPLACE TEMPORARY TABLE ProcessLog\n    (\n    WorkFlow       VARCHAR(100),\n    ExecutionDate  DATE\n    )\n;\n\nINSERT INTO ProcessLog (WorkFlow, ExecutionDate)\nVALUES\n    ('Alpha','6/01/2018'),('Alpha','6/14/2018'),('Alpha','6/15/2018'),\n    ('Bravo','6/1/2018'),('Bravo','6/2/2018'),('Bravo','6/19/2018'),\n    ('Charlie','6/1/2018'),('Charlie','6/15/2018'),('Charlie','6/30/2018')\n;",
   "execution_count": null
  },
  {
   "cell_type": "code",
   "id": "316caaea-b6ae-4a27-8006-3c528599b204",
   "metadata": {
    "language": "sql",
    "name": "cell29",
    "collapsed": false
   },
   "outputs": [],
   "source": "-- Puzzle 12\nSELECT\n    f.workflow\n    ,FLOOR(AVG(f.dd)) AS average_days\nFROM\n    (\n    SELECT\n        *\n        ,LEAD(pl.executiondate) OVER(PARTITION BY pl.workflow ORDER BY pl.executiondate) AS lead_executiondate\n        ,DATEDIFF(DAY, pl.executiondate, lead_executiondate) AS dd\n    FROM\n        processlog AS pl\n    ) AS f\nGROUP BY ALL\n;",
   "execution_count": null
  },
  {
   "cell_type": "code",
   "id": "1d8d443e-7171-4c84-8110-5778941ef500",
   "metadata": {
    "language": "sql",
    "name": "cell30",
    "collapsed": false
   },
   "outputs": [],
   "source": "-- Puzzle 13 DDL\nCREATE OR REPLACE TEMPORARY TABLE Inventory\n    (\n    InventoryDate       DATE,\n    QuantityAdjustment  INTEGER NOT NULL\n    )\n;\n\nINSERT INTO Inventory (InventoryDate, QuantityAdjustment)\nVALUES\n    ('7/1/2018',100)\n    ,('7/2/2018',75)\n    ,('7/3/2018',-150)\n    ,('7/4/2018',50)\n    ,('7/5/2018',-100)\n;",
   "execution_count": null
  },
  {
   "cell_type": "code",
   "id": "5b08e620-1863-4df5-a6f2-f8e2b78e9e90",
   "metadata": {
    "language": "sql",
    "name": "cell31",
    "collapsed": false
   },
   "outputs": [],
   "source": "-- Puzzle 13\nSELECT\n    i.inventorydate\n    ,i.quantityadjustment\n    ,SUM(i.quantityadjustment) OVER(ORDER BY i.inventorydate) AS inventory\nFROM\n    inventory AS i\nORDER BY\n    i.inventorydate\n;",
   "execution_count": null
  },
  {
   "cell_type": "code",
   "id": "e4c5f482-7103-4b5d-841d-2c5b211fea1e",
   "metadata": {
    "language": "sql",
    "name": "cell32",
    "collapsed": false
   },
   "outputs": [],
   "source": "-- Puzzle 14 DDL\nCREATE OR REPLACE TEMPORARY TABLE ProcessLog\n    (\n    Workflow    VARCHAR(100),\n    StepNumber  INTEGER,\n    RunStatus   VARCHAR(100) NOT NULL\n    )\n;\n\nINSERT INTO ProcessLog (Workflow, StepNumber, RunStatus)\nVALUES\n    ('Alpha',1,'Error'),('Alpha',2,'Complete'),('Alpha',3,'Running'),\n    ('Bravo',1,'Complete'),('Bravo',2,'Complete'),\n    ('Charlie',1,'Running'),('Charlie',2,'Running'),\n    ('Delta',1,'Error'),('Delta',2,'Error'),\n    ('Echo',1,'Running'),('Echo',2,'Complete')\n;",
   "execution_count": null
  },
  {
   "cell_type": "code",
   "id": "feca42ab-7dea-4534-9a93-db3ead5ba692",
   "metadata": {
    "language": "sql",
    "name": "cell33",
    "collapsed": false
   },
   "outputs": [],
   "source": "-- Puzzle 14\nSELECT DISTINCT\n    f.workflow\n    ,CASE\n        WHEN f.ct_distinct_status_workflow=1 THEN f.runstatus\n        WHEN f.ct_error_workflow>0 THEN 'Indeterminate'\n        ELSE 'Running'\n    END AS status\nFROM\n    (\n    SELECT\n        *\n        ,COUNT(*) OVER (PARTITION BY pl.workflow) AS ct_row_workflow\n        ,COUNT(DISTINCT pl.runstatus) OVER (PARTITION BY pl.workflow) AS ct_distinct_status_workflow\n        ,COUNT_IF(pl.runstatus='Error') OVER (PARTITION BY pl.workflow) AS ct_error_workflow\n    FROM\n        processlog AS pl\n    ) AS f\n;",
   "execution_count": null
  },
  {
   "cell_type": "code",
   "id": "4cd783e1-8ca0-4ce1-9b0d-8a8b02a2e108",
   "metadata": {
    "language": "sql",
    "name": "cell34",
    "collapsed": false
   },
   "outputs": [],
   "source": "-- Puzzle 15 DDL\nCREATE OR REPLACE TEMPORARY TABLE DMLTable\n    (\n    SequenceNumber  INTEGER PRIMARY KEY,\n    String          VARCHAR(100) NOT NULL\n    )\n;\n\nINSERT INTO DMLTable (SequenceNumber, String)\nVALUES\n    (1,'SELECT'),\n    (2,'Product,'),\n    (3,'UnitPrice,'),\n    (4,'EffectiveDate'),\n    (5,'FROM'),\n    (6,'Products'),\n    (7,'WHERE'),\n    (8,'UnitPrice'),\n    (9,'> 100')\n;",
   "execution_count": null
  },
  {
   "cell_type": "code",
   "id": "c55530fb-9bec-4043-af73-b5af919164dc",
   "metadata": {
    "language": "sql",
    "name": "cell35",
    "collapsed": false
   },
   "outputs": [],
   "source": "-- Puzzle 15\nSELECT\n    LISTAGG(d.string, ' ') WITHIN GROUP (ORDER BY d.sequencenumber) AS syntax\nFROM\n    dmltable AS d\n;",
   "execution_count": null
  },
  {
   "cell_type": "code",
   "id": "2a74a9d0-757a-41b6-a659-8c51ef95eb74",
   "metadata": {
    "language": "sql",
    "name": "cell36",
    "collapsed": false
   },
   "outputs": [],
   "source": "-- Puzzle 16 DDL\nCREATE OR REPLACE TEMPORARY TABLE PlayerScores\n    (\n    PlayerA  INTEGER,\n    PlayerB  INTEGER,\n    Score    INTEGER NOT NULL\n    )\n;\n\nINSERT INTO PlayerScores (PlayerA, PlayerB, Score)\nVALUES\n    (1001,2002,150)\n    ,(3003,4004,15)\n    ,(4004,3003,125)\n;",
   "execution_count": null
  },
  {
   "cell_type": "code",
   "id": "bf15d3b9-bc73-4fd0-bf10-f13ccc2ff0c1",
   "metadata": {
    "language": "sql",
    "name": "cell37",
    "collapsed": false
   },
   "outputs": [],
   "source": "-- Puzzle 16\nSELECT\n    p1.playera\n    ,p1.playerb\n    ,(p1.score + ZEROIFNULL(p2.score)) AS score\nFROM\n    playerscores AS p1\n    LEFT JOIN playerscores AS p2 ON p2.playerb=p1.playera AND p2.playera=p1.playerb\nWHERE 1=1\n    AND p1.playera < p1.playerb\n;",
   "execution_count": null
  },
  {
   "cell_type": "code",
   "id": "233583e5-f67d-47c3-b421-c5e1edac8b7d",
   "metadata": {
    "language": "sql",
    "name": "cell38",
    "collapsed": false
   },
   "outputs": [],
   "source": "-- Puzzle 17 DDL\nCREATE OR REPLACE TEMPORARY TABLE Ungroup\n    (\n    ProductDescription  VARCHAR(100),\n    Quantity            INTEGER NOT NULL\n    )\n;\n\nINSERT INTO Ungroup (ProductDescription, Quantity)\nVALUES\n    ('Pencil',3)\n    ,('Eraser',4)\n    ,('Notebook',2)\n;",
   "execution_count": null
  },
  {
   "cell_type": "code",
   "id": "b2e50bf0-2733-456b-8d33-e979ba4d9dc3",
   "metadata": {
    "language": "sql",
    "name": "cell39",
    "collapsed": false
   },
   "outputs": [],
   "source": "-- Puzzle 17\n;WITH numbers AS\n    (\n    SELECT\n        seq4()+1 AS num\n    FROM\n        TABLE(GENERATOR(ROWCOUNT => 10)) AS t\n    )\n\nSELECT\n    u.productdescription\n    ,1 AS quantity\nFROM\n    ungroup AS u\n    JOIN numbers AS n ON n.num<=u.quantity\nORDER BY\n    u.productdescription\n;",
   "execution_count": null
  },
  {
   "cell_type": "code",
   "id": "1df4bfd8-8d0c-4d9c-945a-5ca441628db9",
   "metadata": {
    "language": "sql",
    "name": "cell40",
    "collapsed": false
   },
   "outputs": [],
   "source": "-- Puzzle 18 DDL\nCREATE OR REPLACE TEMPORARY TABLE SeatingChart\n    (\n    SeatNumber  INTEGER\n    )\n;\n\nINSERT INTO SeatingChart (SeatNumber)\nVALUES\n    (7),(13),(14),(15),(27),(28),(29),(30),(31),(32),(33),(34),(35),(52),(53),(54)\n;",
   "execution_count": null
  },
  {
   "cell_type": "code",
   "id": "1c5eda61-8df5-4f06-9d17-b0da14ebc40b",
   "metadata": {
    "language": "sql",
    "name": "cell41",
    "collapsed": false
   },
   "outputs": [],
   "source": "-- Puzzle 18\n;WITH numbers AS\n    (\n    SELECT\n        seq4()+1 AS num\n    FROM\n        TABLE(GENERATOR(ROWCOUNT => 100)) AS t\n    )\n,base AS\n    (\n    SELECT\n        *\n        ,LEAD(s.seatnumber) OVER(ORDER BY s.seatnumber) AS lead_seatnumber\n        ,(lead_seatnumber-s.seatnumber) AS diff\n        ,MIN(s.seatnumber) OVER() AS min_seatnumber\n    FROM\n        seatingchart AS s\n    QUALIFY\n        diff > 1\n    )\n,final AS\n    (\n    SELECT\n        b.seatnumber+1 AS gapstart\n        ,b.lead_seatnumber-1 AS gapend\n    FROM\n        base AS b\n    \n    UNION ALL\n    \n    SELECT\n        1 AS gapstart\n        ,b.seatnumber-1 AS gapend\n    FROM\n        base AS b\n    WHERE 1=1\n        AND b.min_seatnumber<>1\n        AND b.min_seatnumber=b.seatnumber\n    \n    ORDER BY\n        gapstart\n    )\n\n-- -- part 1\n-- SELECT\n--     *\n-- FROM\n--     final AS f\n-- ;\n\n-- -- part 2\n-- SELECT\n--     COUNT(*) AS totalmissingnumbers\n-- FROM\n--     numbers AS n\n--     JOIN final AS f ON n.num BETWEEN f.gapstart AND f.gapend\n-- ;\n\n-- part 3\nSELECT\n    IFF(MOD(s.seatnumber, 2)=0,'Even Numbers','Odd Numbers') AS type\n    ,COUNT(*) AS ct\nFROM\n    seatingchart AS s\nGROUP BY ALL\nORDER BY\n    type\n;",
   "execution_count": null
  },
  {
   "cell_type": "code",
   "id": "807b6b57-e06d-4c3c-908c-04eb28230fd2",
   "metadata": {
    "language": "sql",
    "name": "cell42"
   },
   "outputs": [],
   "source": "-- Puzzle 19 DDL\nCREATE OR REPLACE TEMPORARY TABLE TimePeriods\n    (\n    StartDate  DATE,\n    EndDate    DATE\n    )\n;\n\nINSERT INTO TimePeriods (StartDate, EndDate)\nVALUES\n    ('1/1/2018','1/5/2018'),\n    ('1/3/2018','1/9/2018'),\n    ('1/10/2018','1/11/2018'),\n    ('1/12/2018','1/16/2018'),\n    ('1/15/2018','1/19/2018')\n;",
   "execution_count": null
  },
  {
   "cell_type": "code",
   "id": "ef48dee9-ec07-42ba-9e68-52f31baf22f2",
   "metadata": {
    "language": "sql",
    "name": "cell43"
   },
   "outputs": [],
   "source": "-- Puzzle 19\n;WITH base AS\n    (\n    SELECT\n        *\n        ,LEAD(t.startdate) OVER(ORDER BY t.startdate) AS lead_startdate\n        ,LAG(t.enddate) OVER(ORDER BY t.enddate) AS lag_enddate\n        ,lead_startdate<t.enddate AS has_overlap\n        ,(lag_enddate<t.startdate) AND (lead_startdate>t.enddate) AS no_overlap\n    FROM\n        timeperiods AS t\n    )\n\nSELECT\n    b1.startdate\n    ,IFF(b1.has_overlap,b2.enddate,b1.enddate) AS enddate\nFROM\n    base AS b1\n    LEFT JOIN base AS b2 ON b2.startdate=b1.lead_startdate AND b1.has_overlap\nWHERE 1=1\n    AND (b1.has_overlap OR b1.no_overlap)\nORDER BY\n    b1.startdate\n;",
   "execution_count": null
  },
  {
   "cell_type": "code",
   "id": "cb52b121-8d2f-49ec-87b8-b8effc5dd201",
   "metadata": {
    "language": "sql",
    "name": "cell44",
    "collapsed": false
   },
   "outputs": [],
   "source": "-- Puzzle 20 DDL\nCREATE OR REPLACE TEMPORARY TABLE ValidPrices\n    (\n    ProductID      INTEGER,\n    UnitPrice      DECIMAL(38,2),\n    EffectiveDate  DATE\n    )\n;\n\nINSERT INTO ValidPrices (ProductID, UnitPrice, EffectiveDate)\nVALUES\n    (1001,1.99,'1/01/2018'),\n    (1001,2.99,'4/15/2018'),\n    (1001,3.99,'6/8/2018'),\n    (2002,1.99,'4/17/2018'),\n    (2002,2.99,'5/19/2018')\n;",
   "execution_count": null
  },
  {
   "cell_type": "code",
   "id": "6f99d8d0-19af-4abe-b71e-7a62facae139",
   "metadata": {
    "language": "sql",
    "name": "cell45"
   },
   "outputs": [],
   "source": "-- Puzzle 20 (Solution 1)\nSELECT\n    *\nFROM\n    validprices AS v\nQUALIFY\n    ROW_NUMBER() OVER(PARTITION BY v.productid ORDER BY v.effectivedate DESC)=1\n;",
   "execution_count": null
  },
  {
   "cell_type": "code",
   "id": "fd89c89e-3b71-4b6b-837b-05e0d8071cb7",
   "metadata": {
    "language": "sql",
    "name": "cell46"
   },
   "outputs": [],
   "source": "-- Puzzle 20 (Solution 2)\nSELECT\n    v.productid\n    ,MAX_BY(v.effectivedate, v.effectivedate) AS effectivedate\n    ,MAX_BY(v.unitprice, v.effectivedate) AS unitprice\nFROM\n    validprices AS v\nGROUP BY ALL\nORDER BY\n    v.productid\n;",
   "execution_count": null
  }
 ]
}